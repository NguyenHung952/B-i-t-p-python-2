{
 "cells": [
  {
   "cell_type": "code",
   "execution_count": null,
   "id": "589e3223-a096-43dd-bd56-21135a210eed",
   "metadata": {},
   "outputs": [],
   "source": [
    "#2.\tTạo module dùng biến dạng dicts với thông tin nhập vào là:\n",
    "#+ Số thứ tự\n",
    "#+ Họ và Tên\n",
    "#+ MSSV\n",
    "#+ Ngày tháng năm sinh\n",
    "#+ Quê quán\n",
    "#+ Lớp"
   ]
  },
  {
   "cell_type": "code",
   "execution_count": 8,
   "id": "5bf7202e-e1f4-4e11-a21d-89ea282482d5",
   "metadata": {},
   "outputs": [
    {
     "name": "stdout",
     "output_type": "stream",
     "text": [
      "{'number': 12, 'fullname': 'Nguyen Ngoc Hung', 'mssv': 20043381, 'birthday': '9/5/2002', 'place': 'Ho Chi Minh', 'class': 'DHDTVT16A'}\n"
     ]
    }
   ],
   "source": [
    "from dict import*\n",
    "\n",
    "print (person1)"
   ]
  }
 ],
 "metadata": {
  "kernelspec": {
   "display_name": "Python 3 (ipykernel)",
   "language": "python",
   "name": "python3"
  },
  "language_info": {
   "codemirror_mode": {
    "name": "ipython",
    "version": 3
   },
   "file_extension": ".py",
   "mimetype": "text/x-python",
   "name": "python",
   "nbconvert_exporter": "python",
   "pygments_lexer": "ipython3",
   "version": "3.9.12"
  }
 },
 "nbformat": 4,
 "nbformat_minor": 5
}
